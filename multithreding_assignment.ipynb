{
 "cells": [
  {
   "cell_type": "code",
   "execution_count": null,
   "id": "ab964b99-4c18-4b8c-b9dd-10e5c6e8f837",
   "metadata": {},
   "outputs": [],
   "source": [
    " Q1.What is multithreading in python? why is it used? Name the module used to handle threads in python"
   ]
  },
  {
   "cell_type": "code",
   "execution_count": null,
   "id": "da32d220-a718-4e7f-9bd3-c81f7240be42",
   "metadata": {},
   "outputs": [],
   "source": [
    "multithreading is a process of running multiple thread simultaneously within a single process.\n",
    "multithreading allow multiple threads to run in parellel.thus improve the overall performance and responsiveness \n",
    "of the program.\n",
    "it is use because \n",
    "Improved Performance: \n",
    "By dividing a program into multiple threads, it can perform several tasks at the same time,\n",
    "which can significantly improve the performance of the program, especially for CPU-bound tasks.\n",
    "Responsiveness: \n",
    "For I/O-bound tasks, multithreading can help in keeping the program responsive by allowing it to perform other tasks while \n",
    "waiting for I/O operations to complete.\n",
    "Better Resource Utilization:\n",
    "Multithreading allows better utilization of multi-core processors by distributing the workload among different cores.\n",
    "\n",
    "The threading module is used to handle threads in Python."
   ]
  },
  {
   "cell_type": "code",
   "execution_count": 1,
   "id": "a9883a54-577c-4607-8b30-33d533a3da40",
   "metadata": {},
   "outputs": [
    {
     "name": "stdout",
     "output_type": "stream",
     "text": [
      "the value is  3\n"
     ]
    }
   ],
   "source": [
    "import threading\n",
    "def test(a):\n",
    "    print(\"the value is \",a)\n",
    "test(3)"
   ]
  },
  {
   "cell_type": "code",
   "execution_count": null,
   "id": "717b8038-a762-45d7-9bd7-8fa8c323442a",
   "metadata": {},
   "outputs": [],
   "source": [
    "Q2.Why threading module used? Write the use of the following functions\n",
    "activeCount()\n",
    "currentThread()\n",
    "enumerate()"
   ]
  },
  {
   "cell_type": "code",
   "execution_count": null,
   "id": "17a71223-955f-4a3b-adcc-37f71cc71880",
   "metadata": {},
   "outputs": [],
   "source": [
    "The threading module in Python is used to work with threads.\n",
    "It provides a high-level, object-oriented interface for creating and managing threads. "
   ]
  },
  {
   "cell_type": "code",
   "execution_count": null,
   "id": "57be5b57-4a95-486f-9807-5e031cd462ec",
   "metadata": {},
   "outputs": [],
   "source": [
    "The activeCount() function returns the number of Thread objects that are currently alive.\n",
    "A Thread object is considered alive from the moment it is created until the moment its run() method completes."
   ]
  },
  {
   "cell_type": "code",
   "execution_count": 7,
   "id": "e72cca71-b602-49d6-b8d0-ceb19e9f428b",
   "metadata": {},
   "outputs": [
    {
     "name": "stdout",
     "output_type": "stream",
     "text": [
      "Thread-0 started\n",
      "Thread-1 started\n",
      "Thread-2 started\n",
      "Number of active threads: 8\n"
     ]
    }
   ],
   "source": [
    "import threading\n",
    "def worker():\n",
    "    print(f\"{threading.current_thread().name} started\")\n",
    "\n",
    "threads = [threading.Thread(target=worker, name=f\"Thread-{i}\") for i in range(3)]\n",
    "for t in threads:\n",
    "    t.start()\n",
    "\n",
    "print(f\"Number of active threads: {threading.active_count()}\")\n"
   ]
  },
  {
   "cell_type": "code",
   "execution_count": null,
   "id": "8976e75b-e4ae-4672-95b5-d5b529d68523",
   "metadata": {},
   "outputs": [],
   "source": [
    "The currentThread() function returns the current Thread object, representing the thread from which the function is called"
   ]
  },
  {
   "cell_type": "code",
   "execution_count": 12,
   "id": "073867df-1263-4c06-a3d4-3760db406b6c",
   "metadata": {},
   "outputs": [
    {
     "name": "stdout",
     "output_type": "stream",
     "text": [
      "Current thread: MainThread\n"
     ]
    }
   ],
   "source": [
    "import threading\n",
    "\n",
    "print(f\"Current thread: {threading.current_thread().name}\")\n"
   ]
  },
  {
   "cell_type": "code",
   "execution_count": null,
   "id": "1185397b-363f-4509-8bee-87bc90ac9afe",
   "metadata": {},
   "outputs": [],
   "source": [
    "enumerate() is used to print the names of all active threads after they have finished their tasks"
   ]
  },
  {
   "cell_type": "code",
   "execution_count": 13,
   "id": "0c24a9f0-fc89-4f79-80ea-308bbc4cdaf3",
   "metadata": {},
   "outputs": [
    {
     "name": "stdout",
     "output_type": "stream",
     "text": [
      "Thread-25 (worker) started\n",
      "Thread-25 (worker) finished\n",
      "Active thread: MainThread\n",
      "Active thread: IOPub\n",
      "Active thread: Heartbeat\n",
      "Active thread: Thread-3 (_watch_pipe_fd)\n",
      "Active thread: Thread-4 (_watch_pipe_fd)\n",
      "Active thread: Control\n",
      "Active thread: IPythonHistorySavingThread\n",
      "Active thread: Thread-2\n"
     ]
    }
   ],
   "source": [
    "import threading\n",
    "import time\n",
    "\n",
    "def worker():\n",
    "    print(f\"{threading.current_thread().name} started\")\n",
    "    time.sleep(2)\n",
    "    print(f\"{threading.current_thread().name} finished\")\n",
    "\n",
    "thread = threading.Thread(target=worker)\n",
    "thread.start()\n",
    "thread.join()\n",
    "\n",
    "for t in threading.enumerate():\n",
    "    print(f\"Active thread: {t.name}\")\n"
   ]
  },
  {
   "cell_type": "code",
   "execution_count": null,
   "id": "84e55659-8435-49f4-a14e-a8ea6423b2c1",
   "metadata": {},
   "outputs": [],
   "source": [
    "Q3.Explain the following functions\n",
    "run()\n",
    "start()\n",
    "join()\n",
    "isAlive()"
   ]
  },
  {
   "cell_type": "code",
   "execution_count": null,
   "id": "f4e0da5a-4800-4f2d-9cb8-629ffe19113d",
   "metadata": {},
   "outputs": [],
   "source": [
    "run():\n",
    "The run() method is the entry point for the thread's activity.\n",
    "When a Thread object's start() method is called,\n",
    "it in turn calls the run() method."
   ]
  },
  {
   "cell_type": "code",
   "execution_count": 14,
   "id": "8e653a29-783b-4530-8373-c7f0f25f8083",
   "metadata": {},
   "outputs": [
    {
     "name": "stdout",
     "output_type": "stream",
     "text": [
      "Thread-26 is running\n"
     ]
    }
   ],
   "source": [
    "import threading\n",
    "\n",
    "class MyThread(threading.Thread):\n",
    "    def run(self):\n",
    "        print(f\"{threading.current_thread().name} is running\")\n",
    "\n",
    "thread = MyThread()\n",
    "thread.start()\n"
   ]
  },
  {
   "cell_type": "code",
   "execution_count": null,
   "id": "c2cebb9b-f223-4d60-a1b6-87dd69c2af52",
   "metadata": {},
   "outputs": [],
   "source": [
    "start()\n",
    "The start() method starts the threads activity. It invokes the run() method in a separate thread of control.\n",
    "Once the start() method is called, the thread is considered \"alive\""
   ]
  },
  {
   "cell_type": "code",
   "execution_count": 15,
   "id": "2d77bd0e-86b6-40e7-940f-d8a77156e282",
   "metadata": {},
   "outputs": [
    {
     "name": "stdout",
     "output_type": "stream",
     "text": [
      "the value is  3\n",
      "the value is  0\n",
      "the value is  1\n",
      "the value is  2\n",
      "the value is  3\n",
      "the value is  4\n",
      "the value is  5\n",
      "the value is  6\n",
      "the value is  7\n",
      "the value is  8\n",
      "the value is  9\n"
     ]
    }
   ],
   "source": [
    "import threading\n",
    "def test(a):\n",
    "    print(\"the value is \",a)\n",
    "test(3)\n",
    "thread=[threading.Thread(target=test,args=(i,))for i in range(10)] \n",
    "for t in thread:\n",
    "    t.start()"
   ]
  },
  {
   "cell_type": "code",
   "execution_count": null,
   "id": "726ea578-d699-4b95-ba15-f500f351a2b1",
   "metadata": {},
   "outputs": [],
   "source": [
    "The join() method blocks the calling thread until the thread whose join() method is called is terminated. \n",
    "This is useful to ensure that all threads complete their execution before continuing with the main program"
   ]
  },
  {
   "cell_type": "code",
   "execution_count": 16,
   "id": "3752b506-84a1-4738-98d7-689ab171d0a5",
   "metadata": {},
   "outputs": [
    {
     "name": "stdout",
     "output_type": "stream",
     "text": [
      "Thread-37 (worker) started\n",
      "Thread-37 (worker) finished\n",
      "All threads have finished\n"
     ]
    }
   ],
   "source": [
    "import threading\n",
    "import time\n",
    "\n",
    "def worker():\n",
    "    print(f\"{threading.current_thread().name} started\")\n",
    "    time.sleep(2)\n",
    "    print(f\"{threading.current_thread().name} finished\")\n",
    "\n",
    "thread = threading.Thread(target=worker)\n",
    "thread.start()\n",
    "thread.join()\n",
    "print(\"All threads have finished\")\n"
   ]
  },
  {
   "cell_type": "code",
   "execution_count": null,
   "id": "621ceb64-e39f-445a-b97a-6ebc156a0197",
   "metadata": {},
   "outputs": [],
   "source": [
    "The isAlive() method returns True if the thread is alive ( its run() method is still executing), and False otherwise"
   ]
  },
  {
   "cell_type": "code",
   "execution_count": 18,
   "id": "c06a5c99-6772-4e52-9679-a055b0a33c3c",
   "metadata": {},
   "outputs": [
    {
     "name": "stdout",
     "output_type": "stream",
     "text": [
      "Is Thread-39 (worker) alive? False\n",
      "Thread-39 (worker) started\n",
      "Is Thread-39 (worker) alive? True\n",
      "Thread-39 (worker) finished\n",
      "Is Thread-39 (worker) alive? False\n"
     ]
    }
   ],
   "source": [
    "import threading\n",
    "import time\n",
    "\n",
    "def worker():\n",
    "    print(f\"{threading.current_thread().name} started\")\n",
    "    time.sleep(2)\n",
    "    print(f\"{threading.current_thread().name} finished\")\n",
    "thread = threading.Thread(target=worker)\n",
    "print(f\"Is {thread.name} alive? {thread.is_alive()}\")\n",
    "thread.start()\n",
    "print(f\"Is {thread.name} alive? {thread.is_alive()}\")\n",
    "thread.join()\n",
    "print(f\"Is {thread.name} alive? {thread.is_alive()}\")"
   ]
  },
  {
   "cell_type": "code",
   "execution_count": null,
   "id": "572b4b2a-5006-464f-b3f1-a92eb542cdb5",
   "metadata": {},
   "outputs": [],
   "source": [
    "Q4. write a python program to create two threads. Thread one must print the list of squares and thread\n",
    "two must print the list of cubes"
   ]
  },
  {
   "cell_type": "code",
   "execution_count": 1,
   "id": "357099af-6e08-49d1-8f64-28f6e9e9d2f0",
   "metadata": {},
   "outputs": [
    {
     "name": "stdout",
     "output_type": "stream",
     "text": [
      "Square of 1: 1\n",
      "Square of 2: 4\n",
      "Square of 3: 9\n",
      "Square of 4: 16\n",
      "Square of 5: 25\n",
      "Square of 6: 36\n",
      "Square of 7: 49\n",
      "Square of 8: 64\n",
      "Square of 9: 81\n",
      "Square of 10: 100\n",
      "Cube of 1: 1\n",
      "Cube of 2: 8\n",
      "Cube of 3: 27\n",
      "Cube of 4: 64\n",
      "Cube of 5: 125\n",
      "Cube of 6: 216\n",
      "Cube of 7: 343\n",
      "Cube of 8: 512\n",
      "Cube of 9: 729\n",
      "Cube of 10: 1000\n",
      "Main thread exiting\n"
     ]
    }
   ],
   "source": [
    "import threading\n",
    "\n",
    "def squares():\n",
    "    for i in range(1, 11):\n",
    "        print(f\"Square of {i}: {i*i}\")\n",
    "\n",
    "def cubes():\n",
    "    for i in range(1, 11):\n",
    "        print(f\"Cube of {i}: {i*i*i}\")\n",
    "thread1 = threading.Thread(target=squares)\n",
    "thread2 = threading.Thread(target=cubes)\n",
    "thread1.start()\n",
    "thread2.start()\n",
    "thread1.join()\n",
    "thread2.join()\n",
    "print(\"Main thread exiting\")\n"
   ]
  },
  {
   "cell_type": "code",
   "execution_count": null,
   "id": "8a6e341b-bfb7-4fce-a19c-e57e085972f0",
   "metadata": {},
   "outputs": [],
   "source": [
    "Q5. State advantages and disadvantages of multithreading"
   ]
  },
  {
   "cell_type": "code",
   "execution_count": null,
   "id": "80e3212e-9d13-4382-af12-6f27285ac67e",
   "metadata": {},
   "outputs": [],
   "source": [
    "Advantages:\n",
    "\n",
    "Concurrency: \n",
    "    Multithreading allows multiple threads to execute concurrently within the same process. This can lead to improved \n",
    "    performance and responsiveness, especially in applications that perform I/O-bound or compute-bound tasks. \n",
    "    For example, a web server can handle multiple client requests simultaneously without blocking other operations.\n",
    "Resource Sharing:\n",
    "    Threads within the same process share the same memory space, allowing them to efficiently exchange data.\n",
    "    This enables communication and data sharing between threads without the need for complex inter-process communication\n",
    "    mechanisms.\n",
    "Responsiveness: \n",
    "    Multithreading can enhance the responsiveness of user interfaces by keeping the UI thread separate from time-consuming \n",
    "    tasks. This prevents the UI from becoming unresponsive while other operations are being performed in the background.\n",
    "Simplified Design:\n",
    "     multithreading can simplify the design of complex applications by dividing them into smaller, more manageable tasks that\n",
    "    can be executed concurrently. This can lead to cleaner code and easier maintenance.\n",
    "Parallelism: \n",
    "    it enables parallelism, which allows multiple tasks to execute simultaneously,thereby utilizing the available \n",
    "    hardware resources more efficiently."
   ]
  },
  {
   "cell_type": "code",
   "execution_count": null,
   "id": "078b2eca-ee85-4e94-9ded-1fde071506aa",
   "metadata": {},
   "outputs": [],
   "source": [
    "Disadvantages:\n",
    "\n",
    "Complexity:\n",
    "    Multithreaded programming introduces complexity, as developers need to consider issues such as thread synchronization, \n",
    "    race conditions, deadlocks, and thread safety. Writing correct and efficient multithreaded code requires careful design\n",
    "    and testing.\n",
    "Concurrency Bugs:\n",
    "    Multithreading can lead to concurrency-related bugs such as race conditions, where the outcome of the program depends on\n",
    "    the interleaving of thread execution. These bugs can be difficult to reproduce and debug, making them challenging to\n",
    "    identify and fix.\n",
    "Overhead:\n",
    "    Multithreading introduces overhead due to the creation, management and synchronization of threads. This overhead can\n",
    "    sometimes outweigh the benefits of parallel execution, especially in scenarios where the workload is not well-suited for\n",
    "    parallelism.\n",
    "Resource Contention:\n",
    "    Threads may contend for shared resources such as CPU time, memory, and I/O devices. This contention can lead to \n",
    "    performance bottlenecks particularly if synchronization mechanisms are overused or misapplied.\n",
    "Platform Dependencies:\n",
    "    Multithreading implementations may vary across different platforms and programming languages, \n",
    "    leading to portability issues."
   ]
  },
  {
   "cell_type": "code",
   "execution_count": null,
   "id": "9d50014f-9c6e-4b7e-a461-ebbafe124801",
   "metadata": {},
   "outputs": [],
   "source": [
    "Q6. Explain deadlocks and race conditions."
   ]
  },
  {
   "cell_type": "code",
   "execution_count": null,
   "id": "2d7e2dfb-b6e0-42ab-8ce0-13c61e653374",
   "metadata": {},
   "outputs": [],
   "source": [
    "Deadlock is a situation where two or more threads are blocked indefinitely, waiting for each other to release resources \n",
    "that they need. Deadlocks typically occur in multithreaded programs that use locks or other synchronization mechanisms to\n",
    "coordinate access to shared resources.\n",
    "\n",
    "Mutual Exclusion:\n",
    "    At least one resource is held in a non-sharable mode \n",
    "    Hold and Wait: A thread holds one or more resources and is waiting to acquire additional resources held by other threads.\n",
    "    No Preemption: Resources cannot be forcibly taken away from a thread. They must be released voluntarily.\n",
    "    Circular Wait: There exists a circular chain of two or more threads, each of which is holding a resource that the next\n",
    "    thread in the chain requires."
   ]
  },
  {
   "cell_type": "code",
   "execution_count": null,
   "id": "1712c273-e506-4a99-8542-bd928a44f1c8",
   "metadata": {},
   "outputs": [],
   "source": [
    "A race condition occurs when the behavior of a program depends on the relative timing or interleaving of multiple threads\n",
    "executing concurrently.\n",
    "\n",
    "Shared Memory Access:\n",
    "    When multiple threads read from and write to the same memory locations without proper synchronization,race conditions\n",
    "    can occur.\n",
    "Non-Atomic Operations:\n",
    "    Operations that are not atomic(they cannot be interrupted) can lead to race conditions if multiple threads attempt to \n",
    "    modify the same data simultaneously.\n",
    "Incorrect Synchronization:\n",
    "    Improper use of synchronization mechanisms such as locks,semaphores, or barriers can introduce race conditions if\n",
    "    they are not used consistently and correctly across all threads"
   ]
  }
 ],
 "metadata": {
  "kernelspec": {
   "display_name": "Python 3 (ipykernel)",
   "language": "python",
   "name": "python3"
  },
  "language_info": {
   "codemirror_mode": {
    "name": "ipython",
    "version": 3
   },
   "file_extension": ".py",
   "mimetype": "text/x-python",
   "name": "python",
   "nbconvert_exporter": "python",
   "pygments_lexer": "ipython3",
   "version": "3.10.8"
  }
 },
 "nbformat": 4,
 "nbformat_minor": 5
}
